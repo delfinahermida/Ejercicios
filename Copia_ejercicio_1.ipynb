{
  "nbformat": 4,
  "nbformat_minor": 0,
  "metadata": {
    "colab": {
      "provenance": [],
      "authorship_tag": "ABX9TyMFPr/wvOM+/vniqXPzOmNn",
      "include_colab_link": true
    },
    "kernelspec": {
      "name": "python3",
      "display_name": "Python 3"
    },
    "language_info": {
      "name": "python"
    }
  },
  "cells": [
    {
      "cell_type": "markdown",
      "metadata": {
        "id": "view-in-github",
        "colab_type": "text"
      },
      "source": [
        "<a href=\"https://colab.research.google.com/github/delfinahermida/Ejercicios/blob/main/Copia_ejercicio_1.ipynb\" target=\"_parent\"><img src=\"https://colab.research.google.com/assets/colab-badge.svg\" alt=\"Open In Colab\"/></a>"
      ]
    },
    {
      "cell_type": "code",
      "execution_count": null,
      "metadata": {
        "colab": {
          "base_uri": "https://localhost:8080/"
        },
        "id": "uCCJXZ937MxU",
        "outputId": "f81a2b4f-9e85-4a7f-c0f9-43a4c23e8fa3"
      },
      "outputs": [
        {
          "output_type": "stream",
          "name": "stdout",
          "text": [
            "hola delfina tienes 26 años\n"
          ]
        }
      ],
      "source": [
        "nombre = \"delfina\"\n",
        "edad = 26\n",
        "print (\"hola\", nombre, \"tienes\", edad, \"años\")"
      ]
    },
    {
      "cell_type": "code",
      "source": [
        "nombre = input (\"ingrese su nombre:\")"
      ],
      "metadata": {
        "colab": {
          "base_uri": "https://localhost:8080/"
        },
        "id": "EkOD2_Mn7hYL",
        "outputId": "8ff0641d-99f1-4e0c-caa7-bbe7597c30af"
      },
      "execution_count": null,
      "outputs": [
        {
          "name": "stdout",
          "output_type": "stream",
          "text": [
            "ingrese su nombre: delfina\n"
          ]
        }
      ]
    },
    {
      "cell_type": "code",
      "source": [
        "edad = input (\"ingrese su edad:\")"
      ],
      "metadata": {
        "colab": {
          "base_uri": "https://localhost:8080/"
        },
        "id": "zcf_JNBg7wGz",
        "outputId": "ad8df273-e018-4517-978c-ed3055a3c0a0"
      },
      "execution_count": null,
      "outputs": [
        {
          "name": "stdout",
          "output_type": "stream",
          "text": [
            "ingrese su edad: 26\n"
          ]
        }
      ]
    },
    {
      "cell_type": "code",
      "source": [
        "print (\"hola\", nombre, \"tienes\", edad, \"años\")"
      ],
      "metadata": {
        "colab": {
          "base_uri": "https://localhost:8080/"
        },
        "id": "M584CPEK7485",
        "outputId": "e37332d5-3f0c-4301-9b98-8bfbe1391792"
      },
      "execution_count": null,
      "outputs": [
        {
          "output_type": "stream",
          "name": "stdout",
          "text": [
            "hola  delfina tienes  26 años\n"
          ]
        }
      ]
    },
    {
      "cell_type": "code",
      "source": [
        "animales = input (\"ingresa cuantos animales tenes en tu casa:\")"
      ],
      "metadata": {
        "colab": {
          "base_uri": "https://localhost:8080/"
        },
        "id": "iY_knhmp8NxI",
        "outputId": "63bc59d2-8f3c-4c67-c052-db34e287548d"
      },
      "execution_count": null,
      "outputs": [
        {
          "name": "stdout",
          "output_type": "stream",
          "text": [
            "ingresa cuantos animales tenes en tu casa: 4 \n"
          ]
        }
      ]
    },
    {
      "cell_type": "code",
      "source": [
        "print (animales)"
      ],
      "metadata": {
        "colab": {
          "base_uri": "https://localhost:8080/"
        },
        "id": "IBI-gVO28bbI",
        "outputId": "566245c0-ccc2-41a2-bde5-40ab9b8d56a5"
      },
      "execution_count": null,
      "outputs": [
        {
          "output_type": "stream",
          "name": "stdout",
          "text": [
            " 4 \n"
          ]
        }
      ]
    },
    {
      "cell_type": "code",
      "source": [
        "5>4"
      ],
      "metadata": {
        "colab": {
          "base_uri": "https://localhost:8080/"
        },
        "id": "5qcTZxzq8gMk",
        "outputId": "1a71f6ca-b6fd-4d43-847e-d1a7eb932bcb"
      },
      "execution_count": null,
      "outputs": [
        {
          "output_type": "execute_result",
          "data": {
            "text/plain": [
              "True"
            ]
          },
          "metadata": {},
          "execution_count": 8
        }
      ]
    },
    {
      "cell_type": "code",
      "source": [
        "animales = int(animales)\n",
        "print (type (animales))"
      ],
      "metadata": {
        "colab": {
          "base_uri": "https://localhost:8080/"
        },
        "id": "g3EQ5ABL8lXf",
        "outputId": "52d967d4-2b71-4282-ca03-423f1eb13215"
      },
      "execution_count": null,
      "outputs": [
        {
          "output_type": "stream",
          "name": "stdout",
          "text": [
            "<class 'int'>\n"
          ]
        }
      ]
    },
    {
      "cell_type": "code",
      "source": [
        "#si delfina tiene 4 perros, entonces ama a los animales\n",
        "#si tiene menos, no le gustan los animales"
      ],
      "metadata": {
        "id": "K8fnsrKN8vUx"
      },
      "execution_count": null,
      "outputs": []
    },
    {
      "cell_type": "code",
      "source": [
        "if animales < 10:\n",
        "  print (\"ama a los animales\")\n",
        "else: #menor a 4\n",
        " print (\"no le gustan los animales\")"
      ],
      "metadata": {
        "colab": {
          "base_uri": "https://localhost:8080/"
        },
        "id": "bTL1kFyH86LK",
        "outputId": "00bf2e9d-2087-4437-d3a1-14072a19ed7e"
      },
      "execution_count": null,
      "outputs": [
        {
          "output_type": "stream",
          "name": "stdout",
          "text": [
            "ama a los animales\n"
          ]
        }
      ]
    },
    {
      "cell_type": "code",
      "source": [
        "examen = input (\"calificacion del examen:\")"
      ],
      "metadata": {
        "colab": {
          "base_uri": "https://localhost:8080/"
        },
        "id": "CW_rV5arIUhe",
        "outputId": "3b32728e-985e-4441-972a-7f58bda5d271"
      },
      "execution_count": null,
      "outputs": [
        {
          "name": "stdout",
          "output_type": "stream",
          "text": [
            "calificacion del examen:50\n"
          ]
        }
      ]
    },
    {
      "cell_type": "code",
      "source": [
        "type (examen)\n",
        "examen = int (examen)\n",
        "print (type(examen))"
      ],
      "metadata": {
        "colab": {
          "base_uri": "https://localhost:8080/"
        },
        "id": "OdWtpMAgI5qu",
        "outputId": "b4683369-ede0-4625-ec82-873280aafc78"
      },
      "execution_count": null,
      "outputs": [
        {
          "output_type": "stream",
          "name": "stdout",
          "text": [
            "<class 'int'>\n"
          ]
        }
      ]
    },
    {
      "cell_type": "code",
      "source": [
        "if 60 >= examen:\n",
        "  print (\"calificacion f: menor a 60\")\n",
        "else:\n",
        "  print (\"a:90-100\", \"b:80-89\", \"c:70-79\", \"d:60-69\")"
      ],
      "metadata": {
        "colab": {
          "base_uri": "https://localhost:8080/"
        },
        "id": "o0n6XpBqJMak",
        "outputId": "3373cfa4-29a0-4d35-b85f-56eb4a75be2d"
      },
      "execution_count": null,
      "outputs": [
        {
          "output_type": "stream",
          "name": "stdout",
          "text": [
            "calificacion f: menor a 60\n"
          ]
        }
      ]
    }
  ]
}